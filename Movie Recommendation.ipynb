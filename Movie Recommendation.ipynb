{
 "metadata": {
  "name": ""
 },
 "nbformat": 3,
 "nbformat_minor": 0,
 "worksheets": [
  {
   "cells": [
    {
     "cell_type": "code",
     "collapsed": false,
     "input": [
      "import math\n",
      "import numpy as np\n",
      "from scipy.sparse import csr_matrix, lil_matrix\n",
      "from sklearn.feature_extraction.text import CountVectorizer"
     ],
     "language": "python",
     "metadata": {},
     "outputs": [],
     "prompt_number": 2
    },
    {
     "cell_type": "code",
     "collapsed": false,
     "input": [
      "movie_names = ['Avatar', 'Get Shorty', 'Princess Bride', 'Goonies']\n",
      "movie_descriptions = [\n",
      "    'an epic science fiction film',\n",
      "    'a crime thriller comedy film; adapted from a book',\n",
      "    'a fantasy comedy adventure film; adapted from a book',\n",
      "    'an adventure comedy film'\n",
      "]\n",
      "# ratings: row=user, col=movie\n",
      "# All ratings are between 0 and 1, with 1 meaning the user really liked the movie.\n",
      "# A 0 value means the user has not rated the movie.\n",
      "ratings = csr_matrix([\n",
      "    [.1, 0, .2, 0],\n",
      "    [0, .9, 0, .3],\n",
      "    [.3, 0, .9, 0],\n",
      "    [0, 0, 0, .4],\n",
      "    [0, 0, .3, .4]\n",
      "    ])"
     ],
     "language": "python",
     "metadata": {},
     "outputs": [],
     "prompt_number": 3
    },
    {
     "cell_type": "code",
     "collapsed": false,
     "input": [
      "vectorizer = CountVectorizer(token_pattern=r'(?u)\\b\\w+\\b', dtype=np.float)\n",
      "movie_term_matrix = vectorizer.fit_transform(movie_descriptions)\n",
      "vocabulary = np.array(vectorizer.get_feature_names())\n",
      "print('movie_term_matrix:')\n",
      "print(movie_term_matrix.todense())\n",
      "print('vocabulary')\n",
      "print(vocabulary)\n",
      "\n",
      "# movie_term_matrix: value i,j is the frequency of term j in the description of movie i."
     ],
     "language": "python",
     "metadata": {},
     "outputs": [
      {
       "output_type": "stream",
       "stream": "stdout",
       "text": [
        "movie_term_matrix:\n",
        "[[ 0.  0.  0.  1.  0.  0.  0.  1.  0.  1.  1.  0.  1.  0.]\n",
        " [ 2.  1.  0.  0.  1.  1.  1.  0.  0.  0.  1.  1.  0.  1.]\n",
        " [ 2.  1.  1.  0.  1.  1.  0.  0.  1.  0.  1.  1.  0.  0.]\n",
        " [ 0.  0.  1.  1.  0.  1.  0.  0.  0.  0.  1.  0.  0.  0.]]\n",
        "vocabulary\n",
        "[u'a' u'adapted' u'adventure' u'an' u'book' u'comedy' u'crime' u'epic'\n",
        " u'fantasy' u'fiction' u'film' u'from' u'science' u'thriller']\n"
       ]
      }
     ],
     "prompt_number": 4
    },
    {
     "cell_type": "code",
     "collapsed": false,
     "input": [
      "def document_frequencies(movie_term_matrix):\n",
      "    \"\"\" Computing the number of different documents that each term appears in.\n",
      "    Params:\n",
      "      movie_term_matrix...csr_matrix where entry i,j is the number\n",
      "                          of times term j appears in document i\n",
      "    Returns:\n",
      "      a numpy array with one element per term in the vocabulary.\"\"\"\n",
      "    \n",
      "    \n",
      "    count = []\n",
      "    a = movie_term_matrix.toarray()\n",
      "    \n",
      "    for index, x in enumerate(a[0]):\n",
      "        count.append(0.)\n",
      "\n",
      "    for x in a:\n",
      "        for index, y in enumerate(x):\n",
      "            if y != 0.0:\n",
      "                count[index]+=1\n",
      "    x = np.array(count)\n",
      "    return x\n",
      "    \n",
      "dfs = document_frequencies(movie_term_matrix)\n",
      "dfs"
     ],
     "language": "python",
     "metadata": {},
     "outputs": [
      {
       "metadata": {},
       "output_type": "pyout",
       "prompt_number": 5,
       "text": [
        "array([ 2.,  2.,  2.,  2.,  2.,  3.,  1.,  1.,  1.,  1.,  4.,  2.,  1.,  1.])"
       ]
      }
     ],
     "prompt_number": 5
    },
    {
     "cell_type": "code",
     "collapsed": false,
     "input": [
      "def tfidf(movie_term_matrix, dfs):\n",
      "    \"\"\" Creating a new matrix that transforms movie_term_matrix using tfidf.\n",
      "    Simply dividing each value by the document frequency for that term.\n",
      "    \n",
      "    Params:\n",
      "      movie_term_matrix...csr_matrix where entry i,j is the number\n",
      "                          of times term j appears in document i\n",
      "      dfs.................document frequencies for each term.\n",
      "    Returns:\n",
      "      A csr_matrix that is a copy of movie_term_matrix where value\n",
      "      i,j is divided by the document frequency of term j\"\"\"\n",
      "    tfidf_matrix = movie_term_matrix.copy()\n",
      "    for column in range(movie_term_matrix.get_shape()[1]):\n",
      "        for row in range(movie_term_matrix.get_shape()[0]):\n",
      "            tfidf_matrix[row, column] = tfidf_matrix.todense().item(row, column)/dfs[column]\n",
      "    return tfidf_matrix\n",
      "\n",
      "# tfidf matrix: row=movie, col=term\n",
      "tfidf_matrix = tfidf(movie_term_matrix, dfs)\n",
      "tfidf_matrix.todense()"
     ],
     "language": "python",
     "metadata": {},
     "outputs": [
      {
       "metadata": {},
       "output_type": "pyout",
       "prompt_number": 7,
       "text": [
        "matrix([[ 0.        ,  0.        ,  0.        ,  0.5       ,  0.        ,\n",
        "          0.        ,  0.        ,  1.        ,  0.        ,  1.        ,\n",
        "          0.25      ,  0.        ,  1.        ,  0.        ],\n",
        "        [ 1.        ,  0.5       ,  0.        ,  0.        ,  0.5       ,\n",
        "          0.33333333,  1.        ,  0.        ,  0.        ,  0.        ,\n",
        "          0.25      ,  0.5       ,  0.        ,  1.        ],\n",
        "        [ 1.        ,  0.5       ,  0.5       ,  0.        ,  0.5       ,\n",
        "          0.33333333,  0.        ,  0.        ,  1.        ,  0.        ,\n",
        "          0.25      ,  0.5       ,  0.        ,  0.        ],\n",
        "        [ 0.        ,  0.        ,  0.5       ,  0.5       ,  0.        ,\n",
        "          0.33333333,  0.        ,  0.        ,  0.        ,  0.        ,\n",
        "          0.25      ,  0.        ,  0.        ,  0.        ]])"
       ]
      }
     ],
     "prompt_number": 7
    },
    {
     "cell_type": "code",
     "collapsed": false,
     "input": [
      "def make_user_profiles(ratings, tfidf_matrix):\n",
      "    \"\"\"\n",
      "    Creating a user profile matrix by computing the weighted average of the tfidf\n",
      "    vectors of each movie he has rated. E.g., if a person has rated \n",
      "    one movie .2 with tfidf vector ([.1, .3]) and rated another movie\n",
      "    .6 with tfidf vector([.2, .4]), then the weighted average is:\n",
      "    [(.2*.1 + .6*.2) / (.2 + .6), (.2*.3 + .6*.4) / (.2 + .6)]\n",
      "    Params:\n",
      "      ratings........the user/movie ratings matrix\n",
      "      tfidf_matrix...the movie/term tfidf matrix\n",
      "    Returns:\n",
      "      A csr matrix where each row represents a user and the columns represent terms.\n",
      "    \"\"\"\n",
      "    ratings_array = ratings.toarray()\n",
      "    for each_user in range(len(ratings.toarray())):\n",
      "        for each_movie in range(tfidf_matrix.get_shape()[0]):\n",
      "            ratings_array[each_user, each_movie]\n",
      "            \n",
      "    tfidf_array = tfidf_matrix.todense()\n",
      "    \n",
      "    \n",
      "    \n",
      "    user_profiles = []\n",
      "    for each_user in range(len(ratings.toarray())):\n",
      "        user_profile = []\n",
      "        for column in range(tfidf_matrix.get_shape()[1]):\n",
      "            sum_of_ratings = sum(ratings_array[each_user])\n",
      "            sum1 = 0\n",
      "            for row in range(tfidf_matrix.get_shape()[0]):\n",
      "                sum1+=(ratings_array[each_user, row]*tfidf_array[row, column])/sum_of_ratings\n",
      "            user_profile.append(sum1)\n",
      "        user_profiles.append(user_profile)\n",
      "    return csr_matrix(user_profiles)\n",
      "\n",
      "    \n",
      "\n",
      "user_profiles = make_user_profiles(ratings, tfidf_matrix)\n",
      "user_profiles.todense()"
     ],
     "language": "python",
     "metadata": {},
     "outputs": [
      {
       "metadata": {},
       "output_type": "pyout",
       "prompt_number": 71,
       "text": [
        "matrix([[ 0.66666667,  0.33333333,  0.33333333,  0.16666667,  0.33333333,\n",
        "          0.22222222,  0.        ,  0.33333333,  0.66666667,  0.33333333,\n",
        "          0.25      ,  0.33333333,  0.33333333,  0.        ],\n",
        "        [ 0.75      ,  0.375     ,  0.125     ,  0.125     ,  0.375     ,\n",
        "          0.33333333,  0.75      ,  0.        ,  0.        ,  0.        ,\n",
        "          0.25      ,  0.375     ,  0.        ,  0.75      ],\n",
        "        [ 0.75      ,  0.375     ,  0.375     ,  0.125     ,  0.375     ,\n",
        "          0.25      ,  0.        ,  0.25      ,  0.75      ,  0.25      ,\n",
        "          0.25      ,  0.375     ,  0.25      ,  0.        ],\n",
        "        [ 0.        ,  0.        ,  0.5       ,  0.5       ,  0.        ,\n",
        "          0.33333333,  0.        ,  0.        ,  0.        ,  0.        ,\n",
        "          0.25      ,  0.        ,  0.        ,  0.        ],\n",
        "        [ 0.42857143,  0.21428571,  0.5       ,  0.28571429,  0.21428571,\n",
        "          0.33333333,  0.        ,  0.        ,  0.42857143,  0.        ,\n",
        "          0.25      ,  0.21428571,  0.        ,  0.        ]])"
       ]
      }
     ],
     "prompt_number": 71
    },
    {
     "cell_type": "code",
     "collapsed": false,
     "input": [
      "def norm(vector):\n",
      "    \"\"\"\n",
      "    Computing the Euclidean norm of one row of a csr_matrix.\n",
      "    https://en.wikipedia.org/wiki/Norm_(mathematics)#Euclidean_norm\n",
      "    Input:\n",
      "      vector...one row from a csr_matrix\n",
      "    Returns:\n",
      "      a float, the Euclidean norm of the vector.\n",
      "    \"\"\"\n",
      "    sum2 = 0\n",
      "    for x in range(vector.get_shape()[1]):\n",
      "        sum2+=vector.toarray().item(0,x)**2\n",
      "    return math.sqrt(sum2)\n",
      "    \n",
      "norm(csr_matrix([3,4]))"
     ],
     "language": "python",
     "metadata": {},
     "outputs": [
      {
       "metadata": {},
       "output_type": "pyout",
       "prompt_number": 105,
       "text": [
        "5.0"
       ]
      }
     ],
     "prompt_number": 105
    },
    {
     "cell_type": "code",
     "collapsed": false,
     "input": [
      "def cosine(v1, v2):\n",
      "    \"\"\"\n",
      "    Computing the cosine similarity between two vectors (rows from a csr_matrix).\n",
      "    https://en.wikipedia.org/wiki/Cosine_similarity\n",
      "    Params:\n",
      "      v1...one vector\n",
      "      v2...another vector\n",
      "    Returns:\n",
      "      a float representing the cosine similarity/\n",
      "    \"\"\"\n",
      "    v1norm = norm(v1)\n",
      "    v2norm = norm(v2)\n",
      "    sum3 = 0\n",
      "    for x in range(v1.get_shape()[1]):\n",
      "            sum3 += v1.toarray().item(0,x)*v2.toarray().item(0,x)\n",
      "    cosinevalue = sum3/(v1norm*v2norm)\n",
      "    return cosinevalue\n",
      "    \n",
      "\n",
      "round(cosine(csr_matrix([2,4]), csr_matrix([3,8])), 5)"
     ],
     "language": "python",
     "metadata": {},
     "outputs": [
      {
       "metadata": {},
       "output_type": "pyout",
       "prompt_number": 118,
       "text": [
        "0.99451"
       ]
      }
     ],
     "prompt_number": 118
    },
    {
     "cell_type": "code",
     "collapsed": false,
     "input": [
      "def predict_ratings_w_user_profiles(ratings, user_profiles, tfidf_matrix):\n",
      "    \"\"\"\n",
      "    Making a copy of the ratings matrix. Replacing each 0 entry with a predicted score\n",
      "    based on user_profile. Specifically, the ratings of user i for movie j is the \n",
      "    cosine similarity between user i's profile and movie's j tfidf vector.\n",
      "    \n",
      "    Params:\n",
      "      ratings.........the user x movie ratings matrix.\n",
      "      user_profiles...the user x term profile matrix\n",
      "      tfidf_matrix....the move x term tfidf matrix\n",
      "    Returns:\n",
      "      a user x movie csr_matrix of ratings. It is a copy of the original\n",
      "      ratings matrix, where 0 values have been replaced by the prediced rating.\n",
      "    \"\"\"\n",
      "    tfidf_array = tfidf_matrix.toarray()\n",
      "    user_profiles_array = user_profiles.toarray()\n",
      "    ratings_copy = ratings.toarray()\n",
      "    for row in range(ratings.get_shape()[0]):\n",
      "        for column in range(ratings.get_shape()[1]):\n",
      "            if ratings.todense().item(row, column) == 0:\n",
      "                ratings_copy[row,column] = cosine(csr_matrix(user_profiles_array[row]), csr_matrix(tfidf_array[column]))\n",
      "    return csr_matrix(ratings_copy)\n",
      "    \n",
      "\n",
      "predicted = predict_ratings_w_user_profiles(ratings, user_profiles, tfidf_matrix)\n",
      "predicted.todense()"
     ],
     "language": "python",
     "metadata": {},
     "outputs": [
      {
       "metadata": {},
       "output_type": "pyout",
       "prompt_number": 138,
       "text": [
        "matrix([[ 0.1       ,  0.48953468,  0.2       ,  0.35045309],\n",
        "        [ 0.04514693,  0.9       ,  0.57142822,  0.3       ],\n",
        "        [ 0.3       ,  0.51857187,  0.9       ,  0.33970573],\n",
        "        [ 0.20920278,  0.10678984,  0.28972493,  0.4       ],\n",
        "        [ 0.11225271,  0.46388588,  0.3       ,  0.4       ]])"
       ]
      }
     ],
     "prompt_number": 138
    },
    {
     "cell_type": "code",
     "collapsed": false,
     "input": [
      "import json\n",
      "\n",
      "def doround(x):\n",
      "    return ['%.3f' % i for i in x]\n",
      "\n",
      "outf = open('output.txt', 'wt')\n",
      "json.dump(\n",
      "    {\n",
      "        'dfs': doround(document_frequencies(movie_term_matrix).tolist()),\n",
      "        'tfidf': doround(tfidf(movie_term_matrix, dfs).todense().A1),\n",
      "        'profiles': doround(make_user_profiles(ratings, tfidf(movie_term_matrix, dfs)).todense().A1),\n",
      "        'norm': round(norm(csr_matrix([5,6])), 2),\n",
      "        'cosine': round(cosine(csr_matrix([5,6]), csr_matrix([-5,-1])), 2),\n",
      "        'predicted': doround(predict_ratings_w_user_profiles(ratings,\n",
      "                                                     make_user_profiles(ratings, tfidf(movie_term_matrix, dfs)),\n",
      "                                                     tfidf(movie_term_matrix, dfs)).todense().A1),\n",
      "    },\n",
      "    outf, indent=2, sort_keys=True)\n",
      "outf.close()"
     ],
     "language": "python",
     "metadata": {},
     "outputs": [],
     "prompt_number": 139
    }
   ],
   "metadata": {}
  }
 ]
}
